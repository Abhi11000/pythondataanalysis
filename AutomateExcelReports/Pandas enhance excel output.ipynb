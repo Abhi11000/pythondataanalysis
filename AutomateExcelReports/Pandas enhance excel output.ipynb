{
 "cells": [
  {
   "cell_type": "code",
   "execution_count": 1,
   "id": "alpine-jordan",
   "metadata": {},
   "outputs": [],
   "source": [
    "import pandas as pd\n",
    "import numpy as np\n",
    "from xlsxwriter.utility import xl_rowcol_to_cell"
   ]
  },
  {
   "cell_type": "code",
   "execution_count": 2,
   "id": "dedicated-channel",
   "metadata": {},
   "outputs": [],
   "source": [
    "df = pd.read_excel(\"AdvWorksData.xlsx\")"
   ]
  },
  {
   "cell_type": "code",
   "execution_count": null,
   "id": "rapid-mongolia",
   "metadata": {},
   "outputs": [],
   "source": [
    "df.head()"
   ]
  },
  {
   "cell_type": "code",
   "execution_count": 3,
   "id": "capable-typing",
   "metadata": {},
   "outputs": [],
   "source": [
    "df = df[['productcategory','productsubcategory','product','Country','OrderDate','StandardCost','Discount','Sales']]"
   ]
  },
  {
   "cell_type": "code",
   "execution_count": 4,
   "id": "descending-indonesia",
   "metadata": {},
   "outputs": [],
   "source": [
    "df.rename(columns={\"productcategory\": \"Category\",\"productsubcategory\": \"Sub-Category\",\"product\":\"Product\",\"StandardCost\": \"Cost\"}, inplace=True)"
   ]
  },
  {
   "cell_type": "code",
   "execution_count": 5,
   "id": "finished-thought",
   "metadata": {},
   "outputs": [],
   "source": [
    "df = df[(df['Category']=='Clothing') & (df['Country']=='United States') & (df['Product']=='Classic Vest, M')]"
   ]
  },
  {
   "cell_type": "code",
   "execution_count": 6,
   "id": "handy-consistency",
   "metadata": {},
   "outputs": [],
   "source": [
    "df= df[ (df['OrderDate'] == '2014-05-01')]"
   ]
  },
  {
   "cell_type": "code",
   "execution_count": 7,
   "id": "subtle-alberta",
   "metadata": {},
   "outputs": [
    {
     "data": {
      "text/plain": [
       "(15, 8)"
      ]
     },
     "execution_count": 7,
     "metadata": {},
     "output_type": "execute_result"
    }
   ],
   "source": [
    "df.shape"
   ]
  },
  {
   "cell_type": "code",
   "execution_count": 8,
   "id": "associate-basic",
   "metadata": {},
   "outputs": [],
   "source": [
    "#add a new column for Net Sales\n",
    "df['Net'] = df['Sales'] - (df['Cost']-df['Discount'])\n",
    "#convert datetime to date and string\n",
    "df['OrderDate'] = df['OrderDate'].astype(str)"
   ]
  },
  {
   "cell_type": "code",
   "execution_count": 9,
   "id": "recorded-identifier",
   "metadata": {},
   "outputs": [
    {
     "data": {
      "text/html": [
       "<div>\n",
       "<style scoped>\n",
       "    .dataframe tbody tr th:only-of-type {\n",
       "        vertical-align: middle;\n",
       "    }\n",
       "\n",
       "    .dataframe tbody tr th {\n",
       "        vertical-align: top;\n",
       "    }\n",
       "\n",
       "    .dataframe thead th {\n",
       "        text-align: right;\n",
       "    }\n",
       "</style>\n",
       "<table border=\"1\" class=\"dataframe\">\n",
       "  <thead>\n",
       "    <tr style=\"text-align: right;\">\n",
       "      <th></th>\n",
       "      <th>Category</th>\n",
       "      <th>Sub-Category</th>\n",
       "      <th>Product</th>\n",
       "      <th>Country</th>\n",
       "      <th>OrderDate</th>\n",
       "      <th>Cost</th>\n",
       "      <th>Discount</th>\n",
       "      <th>Sales</th>\n",
       "      <th>Net</th>\n",
       "    </tr>\n",
       "  </thead>\n",
       "  <tbody>\n",
       "    <tr>\n",
       "      <th>2736</th>\n",
       "      <td>Clothing</td>\n",
       "      <td>Vests</td>\n",
       "      <td>Classic Vest, M</td>\n",
       "      <td>United States</td>\n",
       "      <td>2014-05-01</td>\n",
       "      <td>23.749</td>\n",
       "      <td>0.0</td>\n",
       "      <td>152.4</td>\n",
       "      <td>128.651</td>\n",
       "    </tr>\n",
       "    <tr>\n",
       "      <th>20398</th>\n",
       "      <td>Clothing</td>\n",
       "      <td>Vests</td>\n",
       "      <td>Classic Vest, M</td>\n",
       "      <td>United States</td>\n",
       "      <td>2014-05-01</td>\n",
       "      <td>23.749</td>\n",
       "      <td>0.0</td>\n",
       "      <td>152.4</td>\n",
       "      <td>128.651</td>\n",
       "    </tr>\n",
       "    <tr>\n",
       "      <th>20399</th>\n",
       "      <td>Clothing</td>\n",
       "      <td>Vests</td>\n",
       "      <td>Classic Vest, M</td>\n",
       "      <td>United States</td>\n",
       "      <td>2014-05-01</td>\n",
       "      <td>23.749</td>\n",
       "      <td>0.0</td>\n",
       "      <td>152.4</td>\n",
       "      <td>128.651</td>\n",
       "    </tr>\n",
       "    <tr>\n",
       "      <th>20400</th>\n",
       "      <td>Clothing</td>\n",
       "      <td>Vests</td>\n",
       "      <td>Classic Vest, M</td>\n",
       "      <td>United States</td>\n",
       "      <td>2014-05-01</td>\n",
       "      <td>23.749</td>\n",
       "      <td>0.0</td>\n",
       "      <td>38.1</td>\n",
       "      <td>14.351</td>\n",
       "    </tr>\n",
       "    <tr>\n",
       "      <th>20401</th>\n",
       "      <td>Clothing</td>\n",
       "      <td>Vests</td>\n",
       "      <td>Classic Vest, M</td>\n",
       "      <td>United States</td>\n",
       "      <td>2014-05-01</td>\n",
       "      <td>23.749</td>\n",
       "      <td>0.0</td>\n",
       "      <td>76.2</td>\n",
       "      <td>52.451</td>\n",
       "    </tr>\n",
       "  </tbody>\n",
       "</table>\n",
       "</div>"
      ],
      "text/plain": [
       "       Category Sub-Category          Product        Country   OrderDate  \\\n",
       "2736   Clothing        Vests  Classic Vest, M  United States  2014-05-01   \n",
       "20398  Clothing        Vests  Classic Vest, M  United States  2014-05-01   \n",
       "20399  Clothing        Vests  Classic Vest, M  United States  2014-05-01   \n",
       "20400  Clothing        Vests  Classic Vest, M  United States  2014-05-01   \n",
       "20401  Clothing        Vests  Classic Vest, M  United States  2014-05-01   \n",
       "\n",
       "         Cost  Discount  Sales      Net  \n",
       "2736   23.749       0.0  152.4  128.651  \n",
       "20398  23.749       0.0  152.4  128.651  \n",
       "20399  23.749       0.0  152.4  128.651  \n",
       "20400  23.749       0.0   38.1   14.351  \n",
       "20401  23.749       0.0   76.2   52.451  "
      ]
     },
     "execution_count": 9,
     "metadata": {},
     "output_type": "execute_result"
    }
   ],
   "source": [
    "df.head()"
   ]
  },
  {
   "cell_type": "code",
   "execution_count": null,
   "id": "narrative-virginia",
   "metadata": {},
   "outputs": [],
   "source": [
    "df['OrderDate'] = df['OrderDate'].astype(str)"
   ]
  },
  {
   "cell_type": "markdown",
   "id": "suited-revelation",
   "metadata": {},
   "source": [
    "### Simple Outupt"
   ]
  },
  {
   "cell_type": "code",
   "execution_count": 10,
   "id": "optical-damage",
   "metadata": {},
   "outputs": [],
   "source": [
    "#simpel output\n",
    "df.to_excel('simple.xlsx', index=False, sheet_name='report')"
   ]
  },
  {
   "cell_type": "markdown",
   "id": "desirable-stevens",
   "metadata": {},
   "source": [
    "### Get access to worksheet object"
   ]
  },
  {
   "cell_type": "code",
   "execution_count": 11,
   "id": "attended-continuity",
   "metadata": {},
   "outputs": [],
   "source": [
    "writer = pd.ExcelWriter('enhanced.xlsx', engine='xlsxwriter')\n",
    "df.to_excel(writer, index=False, sheet_name='report')\n",
    "#\n",
    "workbook = writer.book\n",
    "worksheet = writer.sheets['report']"
   ]
  },
  {
   "cell_type": "code",
   "execution_count": 12,
   "id": "signal-feeling",
   "metadata": {},
   "outputs": [],
   "source": [
    "#Now we have the worksheet object. We can manipulate it \n",
    "worksheet.set_zoom(90)"
   ]
  },
  {
   "cell_type": "code",
   "execution_count": 13,
   "id": "junior-consciousness",
   "metadata": {},
   "outputs": [],
   "source": [
    "#Set header formating\n",
    "header_format = workbook.add_format({\n",
    "        \"valign\": \"vcenter\",\n",
    "        \"align\": \"center\",\n",
    "        \"bg_color\": \"#951F06\",\n",
    "         \"bold\": True,\n",
    "        'font_color': '#FFFFFF'\n",
    "    })"
   ]
  },
  {
   "cell_type": "code",
   "execution_count": 14,
   "id": "fuzzy-scratch",
   "metadata": {},
   "outputs": [],
   "source": [
    "#add title\n",
    "title = \"Monthly Sales Report \"\n",
    "#merge cells\n",
    "format = workbook.add_format()\n",
    "format.set_font_size(20)\n",
    "format.set_font_color(\"#333333\")\n",
    "#\n",
    "subheader = \"Sales report for Classic Vest, M\"\n",
    "worksheet.merge_range('A1:AS1', title, format)\n",
    "worksheet.merge_range('A2:AS2', subheader)\n",
    "worksheet.set_row(2, 15) # Set the header row height to 15\n",
    "# puting it all together\n",
    "# Write the column headers with the defined format.\n",
    "for col_num, value in enumerate(df.columns.values):\n",
    "    #print(col_num, value)\n",
    "    worksheet.write(2, col_num, value, header_format)"
   ]
  },
  {
   "cell_type": "code",
   "execution_count": 15,
   "id": "solid-approach",
   "metadata": {},
   "outputs": [],
   "source": [
    "# Add a number format for cells with money.\n",
    "money_fmt = workbook.add_format({'num_format': '$#,##0.00'})"
   ]
  },
  {
   "cell_type": "code",
   "execution_count": 16,
   "id": "frank-cincinnati",
   "metadata": {},
   "outputs": [],
   "source": [
    "# Total formatting\n",
    "total_fmt = workbook.add_format({'align': 'right', 'num_format': '$#,##0',\n",
    "                                 'bold': True, 'bottom':6})"
   ]
  },
  {
   "cell_type": "code",
   "execution_count": 17,
   "id": "solid-photographer",
   "metadata": {},
   "outputs": [
    {
     "data": {
      "text/plain": [
       "0"
      ]
     },
     "execution_count": 17,
     "metadata": {},
     "output_type": "execute_result"
    }
   ],
   "source": [
    "# Adjust the column width.\n",
    "worksheet.set_column('A:F', 20)"
   ]
  },
  {
   "cell_type": "code",
   "execution_count": 18,
   "id": "adverse-therapist",
   "metadata": {
    "scrolled": true
   },
   "outputs": [
    {
     "data": {
      "text/plain": [
       "0"
      ]
     },
     "execution_count": 18,
     "metadata": {},
     "output_type": "execute_result"
    }
   ],
   "source": [
    "# numeric columns\n",
    "worksheet.set_column('F:I', 12, money_fmt)"
   ]
  },
  {
   "cell_type": "code",
   "execution_count": 19,
   "id": "assured-aircraft",
   "metadata": {},
   "outputs": [],
   "source": [
    "number_rows = len(df.index)"
   ]
  },
  {
   "cell_type": "code",
   "execution_count": 20,
   "id": "accompanied-ghana",
   "metadata": {},
   "outputs": [
    {
     "name": "stdout",
     "output_type": "stream",
     "text": [
      "F4\n",
      "F16\n",
      "=SUM(F4:F16)\n",
      "G4\n",
      "G16\n",
      "=SUM(G4:G16)\n",
      "H4\n",
      "H16\n",
      "=SUM(H4:H16)\n",
      "I4\n",
      "I16\n",
      "=SUM(I4:I16)\n"
     ]
    }
   ],
   "source": [
    "# Add total rows\n",
    "for column in range(5, 9):\n",
    "    # Determine where we will place the formula\n",
    "    cell_location = xl_rowcol_to_cell(number_rows+1, column)\n",
    "    # Get the range to use for the sum formula\n",
    "    start_range = xl_rowcol_to_cell(3, column)\n",
    "    print(start_range)\n",
    "    end_range = xl_rowcol_to_cell(number_rows, column)\n",
    "    print(end_range)\n",
    "    # Construct and write the formula\n",
    "    formula = \"=SUM({:s}:{:s})\".format(start_range, end_range)\n",
    "    print(formula)\n",
    "    worksheet.write_formula(cell_location, formula, total_fmt)"
   ]
  },
  {
   "cell_type": "code",
   "execution_count": 21,
   "id": "accessible-channel",
   "metadata": {},
   "outputs": [
    {
     "data": {
      "text/plain": [
       "0"
      ]
     },
     "execution_count": 21,
     "metadata": {},
     "output_type": "execute_result"
    }
   ],
   "source": [
    "# Add a total label\n",
    "worksheet.write_string(number_rows+1, 4, \"Total\",total_fmt)"
   ]
  },
  {
   "cell_type": "markdown",
   "id": "vocal-static",
   "metadata": {},
   "source": [
    "### Advance Outuput"
   ]
  },
  {
   "cell_type": "code",
   "execution_count": 22,
   "id": "valid-female",
   "metadata": {},
   "outputs": [],
   "source": [
    "#Advance output\n",
    "writer.save()"
   ]
  },
  {
   "cell_type": "code",
   "execution_count": null,
   "id": "fatty-anger",
   "metadata": {},
   "outputs": [],
   "source": []
  },
  {
   "cell_type": "code",
   "execution_count": null,
   "id": "theoretical-reynolds",
   "metadata": {},
   "outputs": [],
   "source": []
  }
 ],
 "metadata": {
  "kernelspec": {
   "display_name": "Python 3",
   "language": "python",
   "name": "python3"
  },
  "language_info": {
   "codemirror_mode": {
    "name": "ipython",
    "version": 3
   },
   "file_extension": ".py",
   "mimetype": "text/x-python",
   "name": "python",
   "nbconvert_exporter": "python",
   "pygments_lexer": "ipython3",
   "version": "3.7.3"
  }
 },
 "nbformat": 4,
 "nbformat_minor": 5
}
